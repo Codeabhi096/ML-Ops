{
 "cells": [
  {
   "cell_type": "code",
   "execution_count": 2,
   "id": "8138123f",
   "metadata": {},
   "outputs": [
    {
     "name": "stdout",
     "output_type": "stream",
     "text": [
      "hello\n"
     ]
    }
   ],
   "source": [
    "print(\"hello\")"
   ]
  },
  {
   "cell_type": "code",
   "execution_count": null,
   "id": "084a0b3e",
   "metadata": {},
   "outputs": [],
   "source": [
    "'''\n",
    "mongodb+srv://<db_username>:<db_password>@cluster0.mibydik.mongodb.net/?retryWrites=true&w=majority&appName=Cluster0\n",
    "'''"
   ]
  }
 ],
 "metadata": {
  "kernelspec": {
   "display_name": "venv",
   "language": "python",
   "name": "python3"
  },
  "language_info": {
   "codemirror_mode": {
    "name": "ipython",
    "version": 3
   },
   "file_extension": ".py",
   "mimetype": "text/x-python",
   "name": "python",
   "nbconvert_exporter": "python",
   "pygments_lexer": "ipython3",
   "version": "3.11.4"
  }
 },
 "nbformat": 4,
 "nbformat_minor": 5
}
